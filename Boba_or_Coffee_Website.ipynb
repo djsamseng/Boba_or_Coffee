{
  "nbformat": 4,
  "nbformat_minor": 0,
  "metadata": {
    "colab": {
      "provenance": []
    },
    "kernelspec": {
      "name": "python3",
      "display_name": "Python 3"
    },
    "language_info": {
      "name": "python"
    },
    "widgets": {
      "application/vnd.jupyter.widget-state+json": {
        "2228dee39f954fd6adabb97530745dc7": {
          "model_module": "@jupyter-widgets/controls",
          "model_name": "VBoxModel",
          "model_module_version": "1.5.0",
          "state": {
            "_dom_classes": [],
            "_model_module": "@jupyter-widgets/controls",
            "_model_module_version": "1.5.0",
            "_model_name": "VBoxModel",
            "_view_count": null,
            "_view_module": "@jupyter-widgets/controls",
            "_view_module_version": "1.5.0",
            "_view_name": "VBoxView",
            "box_style": "",
            "children": [
              "IPY_MODEL_7a4e6455046a4c7f8daf082ebe56f7b1",
              "IPY_MODEL_2d6c579024884ed28822357eac0e565a",
              "IPY_MODEL_d0339543f4cc47c7935a985ed4c07fe8",
              "IPY_MODEL_0e8fb65d148a4f309e258bde888e2ad5",
              "IPY_MODEL_2447be26d8ab41f4ad5bffbc35487619",
              "IPY_MODEL_45656c006c2a4556890ccd070925df5c",
              "IPY_MODEL_51fbacc3e376493c9c80097cef187b14"
            ],
            "layout": "IPY_MODEL_c638a8cdf8f64e2fb9f83ee880be385e"
          }
        },
        "7a4e6455046a4c7f8daf082ebe56f7b1": {
          "model_module": "@jupyter-widgets/controls",
          "model_name": "LabelModel",
          "model_module_version": "1.5.0",
          "state": {
            "_dom_classes": [],
            "_model_module": "@jupyter-widgets/controls",
            "_model_module_version": "1.5.0",
            "_model_name": "LabelModel",
            "_view_count": null,
            "_view_module": "@jupyter-widgets/controls",
            "_view_module_version": "1.5.0",
            "_view_name": "LabelView",
            "description": "",
            "description_tooltip": null,
            "layout": "IPY_MODEL_c826579b63c04022ae6a5d4a3a6a3dec",
            "placeholder": "​",
            "style": "IPY_MODEL_af964fe356f5446d8379b883c477945f",
            "value": "Upload your image"
          }
        },
        "2d6c579024884ed28822357eac0e565a": {
          "model_module": "@jupyter-widgets/controls",
          "model_name": "FileUploadModel",
          "model_module_version": "1.5.0",
          "state": {
            "_counter": 1,
            "_dom_classes": [],
            "_model_module": "@jupyter-widgets/controls",
            "_model_module_version": "1.5.0",
            "_model_name": "FileUploadModel",
            "_view_count": null,
            "_view_module": "@jupyter-widgets/controls",
            "_view_module_version": "1.5.0",
            "_view_name": "FileUploadView",
            "accept": "",
            "button_style": "",
            "data": [
              null
            ],
            "description": "Upload",
            "description_tooltip": null,
            "disabled": false,
            "error": "",
            "icon": "upload",
            "layout": "IPY_MODEL_2185e5df97564118bda39997816b1ee7",
            "metadata": [
              {
                "name": "images (15).jpeg",
                "type": "image/jpeg",
                "size": 5805,
                "lastModified": 1712977395999
              }
            ],
            "multiple": false,
            "style": "IPY_MODEL_ae14f8231ed54ef1a183822c7c07daba"
          }
        },
        "d0339543f4cc47c7935a985ed4c07fe8": {
          "model_module": "@jupyter-widgets/controls",
          "model_name": "LabelModel",
          "model_module_version": "1.5.0",
          "state": {
            "_dom_classes": [],
            "_model_module": "@jupyter-widgets/controls",
            "_model_module_version": "1.5.0",
            "_model_name": "LabelModel",
            "_view_count": null,
            "_view_module": "@jupyter-widgets/controls",
            "_view_module_version": "1.5.0",
            "_view_name": "LabelView",
            "description": "",
            "description_tooltip": null,
            "layout": "IPY_MODEL_42280adb247c4849937e5ff61660e95a",
            "placeholder": "​",
            "style": "IPY_MODEL_e8c99d2d88164913b0d261c0e49ffd26",
            "value": ""
          }
        },
        "0e8fb65d148a4f309e258bde888e2ad5": {
          "model_module": "@jupyter-widgets/controls",
          "model_name": "ButtonModel",
          "model_module_version": "1.5.0",
          "state": {
            "_dom_classes": [],
            "_model_module": "@jupyter-widgets/controls",
            "_model_module_version": "1.5.0",
            "_model_name": "ButtonModel",
            "_view_count": null,
            "_view_module": "@jupyter-widgets/controls",
            "_view_module_version": "1.5.0",
            "_view_name": "ButtonView",
            "button_style": "",
            "description": "Classify",
            "disabled": false,
            "icon": "",
            "layout": "IPY_MODEL_5e2c8e76026d477fa2e89a8e1c0f2639",
            "style": "IPY_MODEL_8b5f47ff044848bb8c94b11c642e0544",
            "tooltip": ""
          }
        },
        "2447be26d8ab41f4ad5bffbc35487619": {
          "model_module": "@jupyter-widgets/output",
          "model_name": "OutputModel",
          "model_module_version": "1.0.0",
          "state": {
            "_dom_classes": [],
            "_model_module": "@jupyter-widgets/output",
            "_model_module_version": "1.0.0",
            "_model_name": "OutputModel",
            "_view_count": null,
            "_view_module": "@jupyter-widgets/output",
            "_view_module_version": "1.0.0",
            "_view_name": "OutputView",
            "layout": "IPY_MODEL_21f49d3118354ad581c82b5a6e706cfa",
            "msg_id": "",
            "outputs": [
              {
                "output_type": "display_data",
                "data": {
                  "text/plain": "<PIL.Image.Image image mode=RGB size=86x128>",
                  "image/png": "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\n"
                },
                "metadata": {}
              }
            ]
          }
        },
        "45656c006c2a4556890ccd070925df5c": {
          "model_module": "@jupyter-widgets/controls",
          "model_name": "LabelModel",
          "model_module_version": "1.5.0",
          "state": {
            "_dom_classes": [],
            "_model_module": "@jupyter-widgets/controls",
            "_model_module_version": "1.5.0",
            "_model_name": "LabelModel",
            "_view_count": null,
            "_view_module": "@jupyter-widgets/controls",
            "_view_module_version": "1.5.0",
            "_view_name": "LabelView",
            "description": "",
            "description_tooltip": null,
            "layout": "IPY_MODEL_1953b361fb75428c890960bc4ea2eda0",
            "placeholder": "​",
            "style": "IPY_MODEL_83faf083043b40518eb5dc82b3205811",
            "value": "Prediction: boba tea"
          }
        },
        "51fbacc3e376493c9c80097cef187b14": {
          "model_module": "@jupyter-widgets/controls",
          "model_name": "LabelModel",
          "model_module_version": "1.5.0",
          "state": {
            "_dom_classes": [],
            "_model_module": "@jupyter-widgets/controls",
            "_model_module_version": "1.5.0",
            "_model_name": "LabelModel",
            "_view_count": null,
            "_view_module": "@jupyter-widgets/controls",
            "_view_module_version": "1.5.0",
            "_view_name": "LabelView",
            "description": "",
            "description_tooltip": null,
            "layout": "IPY_MODEL_a748f23d10c94a088c2bc5ff03879b64",
            "placeholder": "​",
            "style": "IPY_MODEL_922f9affff6741708b7ff45291e909b1",
            "value": "Probability: 0.9573"
          }
        },
        "c638a8cdf8f64e2fb9f83ee880be385e": {
          "model_module": "@jupyter-widgets/base",
          "model_name": "LayoutModel",
          "model_module_version": "1.2.0",
          "state": {
            "_model_module": "@jupyter-widgets/base",
            "_model_module_version": "1.2.0",
            "_model_name": "LayoutModel",
            "_view_count": null,
            "_view_module": "@jupyter-widgets/base",
            "_view_module_version": "1.2.0",
            "_view_name": "LayoutView",
            "align_content": null,
            "align_items": null,
            "align_self": null,
            "border": null,
            "bottom": null,
            "display": null,
            "flex": null,
            "flex_flow": null,
            "grid_area": null,
            "grid_auto_columns": null,
            "grid_auto_flow": null,
            "grid_auto_rows": null,
            "grid_column": null,
            "grid_gap": null,
            "grid_row": null,
            "grid_template_areas": null,
            "grid_template_columns": null,
            "grid_template_rows": null,
            "height": null,
            "justify_content": null,
            "justify_items": null,
            "left": null,
            "margin": null,
            "max_height": null,
            "max_width": null,
            "min_height": null,
            "min_width": null,
            "object_fit": null,
            "object_position": null,
            "order": null,
            "overflow": null,
            "overflow_x": null,
            "overflow_y": null,
            "padding": null,
            "right": null,
            "top": null,
            "visibility": null,
            "width": null
          }
        },
        "c826579b63c04022ae6a5d4a3a6a3dec": {
          "model_module": "@jupyter-widgets/base",
          "model_name": "LayoutModel",
          "model_module_version": "1.2.0",
          "state": {
            "_model_module": "@jupyter-widgets/base",
            "_model_module_version": "1.2.0",
            "_model_name": "LayoutModel",
            "_view_count": null,
            "_view_module": "@jupyter-widgets/base",
            "_view_module_version": "1.2.0",
            "_view_name": "LayoutView",
            "align_content": null,
            "align_items": null,
            "align_self": null,
            "border": null,
            "bottom": null,
            "display": null,
            "flex": null,
            "flex_flow": null,
            "grid_area": null,
            "grid_auto_columns": null,
            "grid_auto_flow": null,
            "grid_auto_rows": null,
            "grid_column": null,
            "grid_gap": null,
            "grid_row": null,
            "grid_template_areas": null,
            "grid_template_columns": null,
            "grid_template_rows": null,
            "height": null,
            "justify_content": null,
            "justify_items": null,
            "left": null,
            "margin": null,
            "max_height": null,
            "max_width": null,
            "min_height": null,
            "min_width": null,
            "object_fit": null,
            "object_position": null,
            "order": null,
            "overflow": null,
            "overflow_x": null,
            "overflow_y": null,
            "padding": null,
            "right": null,
            "top": null,
            "visibility": null,
            "width": null
          }
        },
        "af964fe356f5446d8379b883c477945f": {
          "model_module": "@jupyter-widgets/controls",
          "model_name": "DescriptionStyleModel",
          "model_module_version": "1.5.0",
          "state": {
            "_model_module": "@jupyter-widgets/controls",
            "_model_module_version": "1.5.0",
            "_model_name": "DescriptionStyleModel",
            "_view_count": null,
            "_view_module": "@jupyter-widgets/base",
            "_view_module_version": "1.2.0",
            "_view_name": "StyleView",
            "description_width": ""
          }
        },
        "2185e5df97564118bda39997816b1ee7": {
          "model_module": "@jupyter-widgets/base",
          "model_name": "LayoutModel",
          "model_module_version": "1.2.0",
          "state": {
            "_model_module": "@jupyter-widgets/base",
            "_model_module_version": "1.2.0",
            "_model_name": "LayoutModel",
            "_view_count": null,
            "_view_module": "@jupyter-widgets/base",
            "_view_module_version": "1.2.0",
            "_view_name": "LayoutView",
            "align_content": null,
            "align_items": null,
            "align_self": null,
            "border": null,
            "bottom": null,
            "display": null,
            "flex": null,
            "flex_flow": null,
            "grid_area": null,
            "grid_auto_columns": null,
            "grid_auto_flow": null,
            "grid_auto_rows": null,
            "grid_column": null,
            "grid_gap": null,
            "grid_row": null,
            "grid_template_areas": null,
            "grid_template_columns": null,
            "grid_template_rows": null,
            "height": null,
            "justify_content": null,
            "justify_items": null,
            "left": null,
            "margin": null,
            "max_height": null,
            "max_width": null,
            "min_height": null,
            "min_width": null,
            "object_fit": null,
            "object_position": null,
            "order": null,
            "overflow": null,
            "overflow_x": null,
            "overflow_y": null,
            "padding": null,
            "right": null,
            "top": null,
            "visibility": null,
            "width": null
          }
        },
        "ae14f8231ed54ef1a183822c7c07daba": {
          "model_module": "@jupyter-widgets/controls",
          "model_name": "ButtonStyleModel",
          "model_module_version": "1.5.0",
          "state": {
            "_model_module": "@jupyter-widgets/controls",
            "_model_module_version": "1.5.0",
            "_model_name": "ButtonStyleModel",
            "_view_count": null,
            "_view_module": "@jupyter-widgets/base",
            "_view_module_version": "1.2.0",
            "_view_name": "StyleView",
            "button_color": null,
            "font_weight": ""
          }
        },
        "42280adb247c4849937e5ff61660e95a": {
          "model_module": "@jupyter-widgets/base",
          "model_name": "LayoutModel",
          "model_module_version": "1.2.0",
          "state": {
            "_model_module": "@jupyter-widgets/base",
            "_model_module_version": "1.2.0",
            "_model_name": "LayoutModel",
            "_view_count": null,
            "_view_module": "@jupyter-widgets/base",
            "_view_module_version": "1.2.0",
            "_view_name": "LayoutView",
            "align_content": null,
            "align_items": null,
            "align_self": null,
            "border": null,
            "bottom": null,
            "display": null,
            "flex": null,
            "flex_flow": null,
            "grid_area": null,
            "grid_auto_columns": null,
            "grid_auto_flow": null,
            "grid_auto_rows": null,
            "grid_column": null,
            "grid_gap": null,
            "grid_row": null,
            "grid_template_areas": null,
            "grid_template_columns": null,
            "grid_template_rows": null,
            "height": null,
            "justify_content": null,
            "justify_items": null,
            "left": null,
            "margin": null,
            "max_height": null,
            "max_width": null,
            "min_height": null,
            "min_width": null,
            "object_fit": null,
            "object_position": null,
            "order": null,
            "overflow": null,
            "overflow_x": null,
            "overflow_y": null,
            "padding": null,
            "right": null,
            "top": null,
            "visibility": null,
            "width": null
          }
        },
        "e8c99d2d88164913b0d261c0e49ffd26": {
          "model_module": "@jupyter-widgets/controls",
          "model_name": "DescriptionStyleModel",
          "model_module_version": "1.5.0",
          "state": {
            "_model_module": "@jupyter-widgets/controls",
            "_model_module_version": "1.5.0",
            "_model_name": "DescriptionStyleModel",
            "_view_count": null,
            "_view_module": "@jupyter-widgets/base",
            "_view_module_version": "1.2.0",
            "_view_name": "StyleView",
            "description_width": ""
          }
        },
        "5e2c8e76026d477fa2e89a8e1c0f2639": {
          "model_module": "@jupyter-widgets/base",
          "model_name": "LayoutModel",
          "model_module_version": "1.2.0",
          "state": {
            "_model_module": "@jupyter-widgets/base",
            "_model_module_version": "1.2.0",
            "_model_name": "LayoutModel",
            "_view_count": null,
            "_view_module": "@jupyter-widgets/base",
            "_view_module_version": "1.2.0",
            "_view_name": "LayoutView",
            "align_content": null,
            "align_items": null,
            "align_self": null,
            "border": null,
            "bottom": null,
            "display": null,
            "flex": null,
            "flex_flow": null,
            "grid_area": null,
            "grid_auto_columns": null,
            "grid_auto_flow": null,
            "grid_auto_rows": null,
            "grid_column": null,
            "grid_gap": null,
            "grid_row": null,
            "grid_template_areas": null,
            "grid_template_columns": null,
            "grid_template_rows": null,
            "height": null,
            "justify_content": null,
            "justify_items": null,
            "left": null,
            "margin": null,
            "max_height": null,
            "max_width": null,
            "min_height": null,
            "min_width": null,
            "object_fit": null,
            "object_position": null,
            "order": null,
            "overflow": null,
            "overflow_x": null,
            "overflow_y": null,
            "padding": null,
            "right": null,
            "top": null,
            "visibility": null,
            "width": null
          }
        },
        "8b5f47ff044848bb8c94b11c642e0544": {
          "model_module": "@jupyter-widgets/controls",
          "model_name": "ButtonStyleModel",
          "model_module_version": "1.5.0",
          "state": {
            "_model_module": "@jupyter-widgets/controls",
            "_model_module_version": "1.5.0",
            "_model_name": "ButtonStyleModel",
            "_view_count": null,
            "_view_module": "@jupyter-widgets/base",
            "_view_module_version": "1.2.0",
            "_view_name": "StyleView",
            "button_color": null,
            "font_weight": ""
          }
        },
        "1953b361fb75428c890960bc4ea2eda0": {
          "model_module": "@jupyter-widgets/base",
          "model_name": "LayoutModel",
          "model_module_version": "1.2.0",
          "state": {
            "_model_module": "@jupyter-widgets/base",
            "_model_module_version": "1.2.0",
            "_model_name": "LayoutModel",
            "_view_count": null,
            "_view_module": "@jupyter-widgets/base",
            "_view_module_version": "1.2.0",
            "_view_name": "LayoutView",
            "align_content": null,
            "align_items": null,
            "align_self": null,
            "border": null,
            "bottom": null,
            "display": null,
            "flex": null,
            "flex_flow": null,
            "grid_area": null,
            "grid_auto_columns": null,
            "grid_auto_flow": null,
            "grid_auto_rows": null,
            "grid_column": null,
            "grid_gap": null,
            "grid_row": null,
            "grid_template_areas": null,
            "grid_template_columns": null,
            "grid_template_rows": null,
            "height": null,
            "justify_content": null,
            "justify_items": null,
            "left": null,
            "margin": null,
            "max_height": null,
            "max_width": null,
            "min_height": null,
            "min_width": null,
            "object_fit": null,
            "object_position": null,
            "order": null,
            "overflow": null,
            "overflow_x": null,
            "overflow_y": null,
            "padding": null,
            "right": null,
            "top": null,
            "visibility": null,
            "width": null
          }
        },
        "83faf083043b40518eb5dc82b3205811": {
          "model_module": "@jupyter-widgets/controls",
          "model_name": "DescriptionStyleModel",
          "model_module_version": "1.5.0",
          "state": {
            "_model_module": "@jupyter-widgets/controls",
            "_model_module_version": "1.5.0",
            "_model_name": "DescriptionStyleModel",
            "_view_count": null,
            "_view_module": "@jupyter-widgets/base",
            "_view_module_version": "1.2.0",
            "_view_name": "StyleView",
            "description_width": ""
          }
        },
        "a748f23d10c94a088c2bc5ff03879b64": {
          "model_module": "@jupyter-widgets/base",
          "model_name": "LayoutModel",
          "model_module_version": "1.2.0",
          "state": {
            "_model_module": "@jupyter-widgets/base",
            "_model_module_version": "1.2.0",
            "_model_name": "LayoutModel",
            "_view_count": null,
            "_view_module": "@jupyter-widgets/base",
            "_view_module_version": "1.2.0",
            "_view_name": "LayoutView",
            "align_content": null,
            "align_items": null,
            "align_self": null,
            "border": null,
            "bottom": null,
            "display": null,
            "flex": null,
            "flex_flow": null,
            "grid_area": null,
            "grid_auto_columns": null,
            "grid_auto_flow": null,
            "grid_auto_rows": null,
            "grid_column": null,
            "grid_gap": null,
            "grid_row": null,
            "grid_template_areas": null,
            "grid_template_columns": null,
            "grid_template_rows": null,
            "height": null,
            "justify_content": null,
            "justify_items": null,
            "left": null,
            "margin": null,
            "max_height": null,
            "max_width": null,
            "min_height": null,
            "min_width": null,
            "object_fit": null,
            "object_position": null,
            "order": null,
            "overflow": null,
            "overflow_x": null,
            "overflow_y": null,
            "padding": null,
            "right": null,
            "top": null,
            "visibility": null,
            "width": null
          }
        },
        "922f9affff6741708b7ff45291e909b1": {
          "model_module": "@jupyter-widgets/controls",
          "model_name": "DescriptionStyleModel",
          "model_module_version": "1.5.0",
          "state": {
            "_model_module": "@jupyter-widgets/controls",
            "_model_module_version": "1.5.0",
            "_model_name": "DescriptionStyleModel",
            "_view_count": null,
            "_view_module": "@jupyter-widgets/base",
            "_view_module_version": "1.2.0",
            "_view_name": "StyleView",
            "description_width": ""
          }
        },
        "21f49d3118354ad581c82b5a6e706cfa": {
          "model_module": "@jupyter-widgets/base",
          "model_name": "LayoutModel",
          "model_module_version": "1.2.0",
          "state": {
            "_model_module": "@jupyter-widgets/base",
            "_model_module_version": "1.2.0",
            "_model_name": "LayoutModel",
            "_view_count": null,
            "_view_module": "@jupyter-widgets/base",
            "_view_module_version": "1.2.0",
            "_view_name": "LayoutView",
            "align_content": null,
            "align_items": null,
            "align_self": null,
            "border": null,
            "bottom": null,
            "display": null,
            "flex": null,
            "flex_flow": null,
            "grid_area": null,
            "grid_auto_columns": null,
            "grid_auto_flow": null,
            "grid_auto_rows": null,
            "grid_column": null,
            "grid_gap": null,
            "grid_row": null,
            "grid_template_areas": null,
            "grid_template_columns": null,
            "grid_template_rows": null,
            "height": null,
            "justify_content": null,
            "justify_items": null,
            "left": null,
            "margin": null,
            "max_height": null,
            "max_width": null,
            "min_height": null,
            "min_width": null,
            "object_fit": null,
            "object_position": null,
            "order": null,
            "overflow": null,
            "overflow_x": null,
            "overflow_y": null,
            "padding": null,
            "right": null,
            "top": null,
            "visibility": null,
            "width": null
          }
        }
      }
    }
  },
  "cells": [
    {
      "cell_type": "code",
      "source": [
        "!pip install ipywidgets"
      ],
      "metadata": {
        "colab": {
          "base_uri": "https://localhost:8080/"
        },
        "id": "VvSkrKFyntdG",
        "outputId": "42034bbd-4811-4431-9577-cd5502c92fc5"
      },
      "execution_count": null,
      "outputs": [
        {
          "output_type": "stream",
          "name": "stdout",
          "text": [
            "Requirement already satisfied: ipywidgets in /usr/local/lib/python3.10/dist-packages (7.7.1)\n",
            "Requirement already satisfied: ipykernel>=4.5.1 in /usr/local/lib/python3.10/dist-packages (from ipywidgets) (5.5.6)\n",
            "Requirement already satisfied: ipython-genutils~=0.2.0 in /usr/local/lib/python3.10/dist-packages (from ipywidgets) (0.2.0)\n",
            "Requirement already satisfied: traitlets>=4.3.1 in /usr/local/lib/python3.10/dist-packages (from ipywidgets) (5.7.1)\n",
            "Requirement already satisfied: widgetsnbextension~=3.6.0 in /usr/local/lib/python3.10/dist-packages (from ipywidgets) (3.6.6)\n",
            "Requirement already satisfied: ipython>=4.0.0 in /usr/local/lib/python3.10/dist-packages (from ipywidgets) (7.34.0)\n",
            "Requirement already satisfied: jupyterlab-widgets>=1.0.0 in /usr/local/lib/python3.10/dist-packages (from ipywidgets) (3.0.10)\n",
            "Requirement already satisfied: jupyter-client in /usr/local/lib/python3.10/dist-packages (from ipykernel>=4.5.1->ipywidgets) (6.1.12)\n",
            "Requirement already satisfied: tornado>=4.2 in /usr/local/lib/python3.10/dist-packages (from ipykernel>=4.5.1->ipywidgets) (6.3.3)\n",
            "Requirement already satisfied: setuptools>=18.5 in /usr/local/lib/python3.10/dist-packages (from ipython>=4.0.0->ipywidgets) (67.7.2)\n",
            "Collecting jedi>=0.16 (from ipython>=4.0.0->ipywidgets)\n",
            "  Downloading jedi-0.19.1-py2.py3-none-any.whl (1.6 MB)\n",
            "\u001b[2K     \u001b[90m━━━━━━━━━━━━━━━━━━━━━━━━━━━━━━━━━━━━━━━━\u001b[0m \u001b[32m1.6/1.6 MB\u001b[0m \u001b[31m9.9 MB/s\u001b[0m eta \u001b[36m0:00:00\u001b[0m\n",
            "\u001b[?25hRequirement already satisfied: decorator in /usr/local/lib/python3.10/dist-packages (from ipython>=4.0.0->ipywidgets) (4.4.2)\n",
            "Requirement already satisfied: pickleshare in /usr/local/lib/python3.10/dist-packages (from ipython>=4.0.0->ipywidgets) (0.7.5)\n",
            "Requirement already satisfied: prompt-toolkit!=3.0.0,!=3.0.1,<3.1.0,>=2.0.0 in /usr/local/lib/python3.10/dist-packages (from ipython>=4.0.0->ipywidgets) (3.0.43)\n",
            "Requirement already satisfied: pygments in /usr/local/lib/python3.10/dist-packages (from ipython>=4.0.0->ipywidgets) (2.16.1)\n",
            "Requirement already satisfied: backcall in /usr/local/lib/python3.10/dist-packages (from ipython>=4.0.0->ipywidgets) (0.2.0)\n",
            "Requirement already satisfied: matplotlib-inline in /usr/local/lib/python3.10/dist-packages (from ipython>=4.0.0->ipywidgets) (0.1.6)\n",
            "Requirement already satisfied: pexpect>4.3 in /usr/local/lib/python3.10/dist-packages (from ipython>=4.0.0->ipywidgets) (4.9.0)\n",
            "Requirement already satisfied: notebook>=4.4.1 in /usr/local/lib/python3.10/dist-packages (from widgetsnbextension~=3.6.0->ipywidgets) (6.5.5)\n",
            "Requirement already satisfied: parso<0.9.0,>=0.8.3 in /usr/local/lib/python3.10/dist-packages (from jedi>=0.16->ipython>=4.0.0->ipywidgets) (0.8.4)\n",
            "Requirement already satisfied: jinja2 in /usr/local/lib/python3.10/dist-packages (from notebook>=4.4.1->widgetsnbextension~=3.6.0->ipywidgets) (3.1.3)\n",
            "Requirement already satisfied: pyzmq<25,>=17 in /usr/local/lib/python3.10/dist-packages (from notebook>=4.4.1->widgetsnbextension~=3.6.0->ipywidgets) (23.2.1)\n",
            "Requirement already satisfied: argon2-cffi in /usr/local/lib/python3.10/dist-packages (from notebook>=4.4.1->widgetsnbextension~=3.6.0->ipywidgets) (23.1.0)\n",
            "Requirement already satisfied: jupyter-core>=4.6.1 in /usr/local/lib/python3.10/dist-packages (from notebook>=4.4.1->widgetsnbextension~=3.6.0->ipywidgets) (5.7.2)\n",
            "Requirement already satisfied: nbformat in /usr/local/lib/python3.10/dist-packages (from notebook>=4.4.1->widgetsnbextension~=3.6.0->ipywidgets) (5.10.4)\n",
            "Requirement already satisfied: nbconvert>=5 in /usr/local/lib/python3.10/dist-packages (from notebook>=4.4.1->widgetsnbextension~=3.6.0->ipywidgets) (6.5.4)\n",
            "Requirement already satisfied: nest-asyncio>=1.5 in /usr/local/lib/python3.10/dist-packages (from notebook>=4.4.1->widgetsnbextension~=3.6.0->ipywidgets) (1.6.0)\n",
            "Requirement already satisfied: Send2Trash>=1.8.0 in /usr/local/lib/python3.10/dist-packages (from notebook>=4.4.1->widgetsnbextension~=3.6.0->ipywidgets) (1.8.3)\n",
            "Requirement already satisfied: terminado>=0.8.3 in /usr/local/lib/python3.10/dist-packages (from notebook>=4.4.1->widgetsnbextension~=3.6.0->ipywidgets) (0.18.1)\n",
            "Requirement already satisfied: prometheus-client in /usr/local/lib/python3.10/dist-packages (from notebook>=4.4.1->widgetsnbextension~=3.6.0->ipywidgets) (0.20.0)\n",
            "Requirement already satisfied: nbclassic>=0.4.7 in /usr/local/lib/python3.10/dist-packages (from notebook>=4.4.1->widgetsnbextension~=3.6.0->ipywidgets) (1.0.0)\n",
            "Requirement already satisfied: python-dateutil>=2.1 in /usr/local/lib/python3.10/dist-packages (from jupyter-client->ipykernel>=4.5.1->ipywidgets) (2.8.2)\n",
            "Requirement already satisfied: ptyprocess>=0.5 in /usr/local/lib/python3.10/dist-packages (from pexpect>4.3->ipython>=4.0.0->ipywidgets) (0.7.0)\n",
            "Requirement already satisfied: wcwidth in /usr/local/lib/python3.10/dist-packages (from prompt-toolkit!=3.0.0,!=3.0.1,<3.1.0,>=2.0.0->ipython>=4.0.0->ipywidgets) (0.2.13)\n",
            "Requirement already satisfied: platformdirs>=2.5 in /usr/local/lib/python3.10/dist-packages (from jupyter-core>=4.6.1->notebook>=4.4.1->widgetsnbextension~=3.6.0->ipywidgets) (4.2.0)\n",
            "Requirement already satisfied: jupyter-server>=1.8 in /usr/local/lib/python3.10/dist-packages (from nbclassic>=0.4.7->notebook>=4.4.1->widgetsnbextension~=3.6.0->ipywidgets) (1.24.0)\n",
            "Requirement already satisfied: notebook-shim>=0.2.3 in /usr/local/lib/python3.10/dist-packages (from nbclassic>=0.4.7->notebook>=4.4.1->widgetsnbextension~=3.6.0->ipywidgets) (0.2.4)\n",
            "Requirement already satisfied: lxml in /usr/local/lib/python3.10/dist-packages (from nbconvert>=5->notebook>=4.4.1->widgetsnbextension~=3.6.0->ipywidgets) (4.9.4)\n",
            "Requirement already satisfied: beautifulsoup4 in /usr/local/lib/python3.10/dist-packages (from nbconvert>=5->notebook>=4.4.1->widgetsnbextension~=3.6.0->ipywidgets) (4.12.3)\n",
            "Requirement already satisfied: bleach in /usr/local/lib/python3.10/dist-packages (from nbconvert>=5->notebook>=4.4.1->widgetsnbextension~=3.6.0->ipywidgets) (6.1.0)\n",
            "Requirement already satisfied: defusedxml in /usr/local/lib/python3.10/dist-packages (from nbconvert>=5->notebook>=4.4.1->widgetsnbextension~=3.6.0->ipywidgets) (0.7.1)\n",
            "Requirement already satisfied: entrypoints>=0.2.2 in /usr/local/lib/python3.10/dist-packages (from nbconvert>=5->notebook>=4.4.1->widgetsnbextension~=3.6.0->ipywidgets) (0.4)\n",
            "Requirement already satisfied: jupyterlab-pygments in /usr/local/lib/python3.10/dist-packages (from nbconvert>=5->notebook>=4.4.1->widgetsnbextension~=3.6.0->ipywidgets) (0.3.0)\n",
            "Requirement already satisfied: MarkupSafe>=2.0 in /usr/local/lib/python3.10/dist-packages (from nbconvert>=5->notebook>=4.4.1->widgetsnbextension~=3.6.0->ipywidgets) (2.1.5)\n",
            "Requirement already satisfied: mistune<2,>=0.8.1 in /usr/local/lib/python3.10/dist-packages (from nbconvert>=5->notebook>=4.4.1->widgetsnbextension~=3.6.0->ipywidgets) (0.8.4)\n",
            "Requirement already satisfied: nbclient>=0.5.0 in /usr/local/lib/python3.10/dist-packages (from nbconvert>=5->notebook>=4.4.1->widgetsnbextension~=3.6.0->ipywidgets) (0.10.0)\n",
            "Requirement already satisfied: packaging in /usr/local/lib/python3.10/dist-packages (from nbconvert>=5->notebook>=4.4.1->widgetsnbextension~=3.6.0->ipywidgets) (24.0)\n",
            "Requirement already satisfied: pandocfilters>=1.4.1 in /usr/local/lib/python3.10/dist-packages (from nbconvert>=5->notebook>=4.4.1->widgetsnbextension~=3.6.0->ipywidgets) (1.5.1)\n",
            "Requirement already satisfied: tinycss2 in /usr/local/lib/python3.10/dist-packages (from nbconvert>=5->notebook>=4.4.1->widgetsnbextension~=3.6.0->ipywidgets) (1.2.1)\n",
            "Requirement already satisfied: fastjsonschema>=2.15 in /usr/local/lib/python3.10/dist-packages (from nbformat->notebook>=4.4.1->widgetsnbextension~=3.6.0->ipywidgets) (2.19.1)\n",
            "Requirement already satisfied: jsonschema>=2.6 in /usr/local/lib/python3.10/dist-packages (from nbformat->notebook>=4.4.1->widgetsnbextension~=3.6.0->ipywidgets) (4.19.2)\n",
            "Requirement already satisfied: six>=1.5 in /usr/local/lib/python3.10/dist-packages (from python-dateutil>=2.1->jupyter-client->ipykernel>=4.5.1->ipywidgets) (1.16.0)\n",
            "Requirement already satisfied: argon2-cffi-bindings in /usr/local/lib/python3.10/dist-packages (from argon2-cffi->notebook>=4.4.1->widgetsnbextension~=3.6.0->ipywidgets) (21.2.0)\n",
            "Requirement already satisfied: attrs>=22.2.0 in /usr/local/lib/python3.10/dist-packages (from jsonschema>=2.6->nbformat->notebook>=4.4.1->widgetsnbextension~=3.6.0->ipywidgets) (23.2.0)\n",
            "Requirement already satisfied: jsonschema-specifications>=2023.03.6 in /usr/local/lib/python3.10/dist-packages (from jsonschema>=2.6->nbformat->notebook>=4.4.1->widgetsnbextension~=3.6.0->ipywidgets) (2023.12.1)\n",
            "Requirement already satisfied: referencing>=0.28.4 in /usr/local/lib/python3.10/dist-packages (from jsonschema>=2.6->nbformat->notebook>=4.4.1->widgetsnbextension~=3.6.0->ipywidgets) (0.34.0)\n",
            "Requirement already satisfied: rpds-py>=0.7.1 in /usr/local/lib/python3.10/dist-packages (from jsonschema>=2.6->nbformat->notebook>=4.4.1->widgetsnbextension~=3.6.0->ipywidgets) (0.18.0)\n",
            "Requirement already satisfied: anyio<4,>=3.1.0 in /usr/local/lib/python3.10/dist-packages (from jupyter-server>=1.8->nbclassic>=0.4.7->notebook>=4.4.1->widgetsnbextension~=3.6.0->ipywidgets) (3.7.1)\n",
            "Requirement already satisfied: websocket-client in /usr/local/lib/python3.10/dist-packages (from jupyter-server>=1.8->nbclassic>=0.4.7->notebook>=4.4.1->widgetsnbextension~=3.6.0->ipywidgets) (1.7.0)\n",
            "Requirement already satisfied: cffi>=1.0.1 in /usr/local/lib/python3.10/dist-packages (from argon2-cffi-bindings->argon2-cffi->notebook>=4.4.1->widgetsnbextension~=3.6.0->ipywidgets) (1.16.0)\n",
            "Requirement already satisfied: soupsieve>1.2 in /usr/local/lib/python3.10/dist-packages (from beautifulsoup4->nbconvert>=5->notebook>=4.4.1->widgetsnbextension~=3.6.0->ipywidgets) (2.5)\n",
            "Requirement already satisfied: webencodings in /usr/local/lib/python3.10/dist-packages (from bleach->nbconvert>=5->notebook>=4.4.1->widgetsnbextension~=3.6.0->ipywidgets) (0.5.1)\n",
            "Requirement already satisfied: idna>=2.8 in /usr/local/lib/python3.10/dist-packages (from anyio<4,>=3.1.0->jupyter-server>=1.8->nbclassic>=0.4.7->notebook>=4.4.1->widgetsnbextension~=3.6.0->ipywidgets) (3.6)\n",
            "Requirement already satisfied: sniffio>=1.1 in /usr/local/lib/python3.10/dist-packages (from anyio<4,>=3.1.0->jupyter-server>=1.8->nbclassic>=0.4.7->notebook>=4.4.1->widgetsnbextension~=3.6.0->ipywidgets) (1.3.1)\n",
            "Requirement already satisfied: exceptiongroup in /usr/local/lib/python3.10/dist-packages (from anyio<4,>=3.1.0->jupyter-server>=1.8->nbclassic>=0.4.7->notebook>=4.4.1->widgetsnbextension~=3.6.0->ipywidgets) (1.2.0)\n",
            "Requirement already satisfied: pycparser in /usr/local/lib/python3.10/dist-packages (from cffi>=1.0.1->argon2-cffi-bindings->argon2-cffi->notebook>=4.4.1->widgetsnbextension~=3.6.0->ipywidgets) (2.22)\n",
            "Installing collected packages: jedi\n",
            "Successfully installed jedi-0.19.1\n"
          ]
        }
      ]
    },
    {
      "cell_type": "code",
      "source": [
        "from pathlib import Path\n",
        "from fastcore.all import *\n",
        "from fastai.vision.all import *\n",
        "import ipywidgets as widgets\n",
        "\n",
        "\n",
        "#from google.colab import drive\n",
        "#drive.mount(\"/content/drive\")"
      ],
      "metadata": {
        "colab": {
          "base_uri": "https://localhost:8080/"
        },
        "id": "mYdCK8KZi6_t",
        "outputId": "14b5e8b5-bfe8-4c93-8fd1-cdf1b507bc2e"
      },
      "execution_count": 2,
      "outputs": [
        {
          "output_type": "stream",
          "name": "stdout",
          "text": [
            "Drive already mounted at /content/drive; to attempt to forcibly remount, call drive.mount(\"/content/drive\", force_remount=True).\n"
          ]
        }
      ]
    },
    {
      "cell_type": "code",
      "execution_count": 4,
      "metadata": {
        "colab": {
          "base_uri": "https://localhost:8080/"
        },
        "id": "Iry-fY4LijW7",
        "outputId": "49448b7d-3bac-4dd7-8a37-cca24d94ee91"
      },
      "outputs": [
        {
          "output_type": "execute_result",
          "data": {
            "text/plain": [
              "[]"
            ]
          },
          "metadata": {},
          "execution_count": 4
        }
      ],
      "source": [
        "#path = Path(\"/content/drive/MyDrive\")\n",
        "path = Path()\n",
        "list(path.glob(\"*.pkl\"))"
      ]
    },
    {
      "cell_type": "code",
      "source": [
        "learn = load_learner(path/\"export.pkl\")"
      ],
      "metadata": {
        "id": "rPRgjSJeinUC"
      },
      "execution_count": null,
      "outputs": []
    },
    {
      "cell_type": "code",
      "source": [
        "btn_upload = widgets.FileUpload()\n",
        "btn_run = widgets.Button(description=\"Classify\")\n",
        "out_pl = widgets.Output()\n",
        "lbl_pred = widgets.Label()\n",
        "lbl_pred2 = widgets.Label()\n",
        "lbl_error = widgets.Label()\n",
        "\n",
        "def on_click_classify(evt):\n",
        "  if (len(btn_upload.data) == 0):\n",
        "    lbl_error.value = \"Please upload an image first!\"\n",
        "    return\n",
        "  img = PILImage.create(btn_upload.data[-1])\n",
        "  lbl_pred.value = \"\"\n",
        "  lbl_pred2.value = \"\"\n",
        "  lbl_error.value = \"\"\n",
        "  out_pl.clear_output()\n",
        "  with out_pl: display(img.to_thumb(128, 128))\n",
        "  pred, pred_idx, probs = learn.predict(img)\n",
        "  lbl_pred.value = \"Prediction: {0}\".format(pred)\n",
        "  lbl_pred2.value = \"Probability: {0:.04f}\".format(probs[pred_idx])\n",
        "\n",
        "btn_run.on_click(on_click_classify)\n",
        "\n",
        "widgets.VBox([\n",
        "  widgets.Label(\"Upload your image\"),\n",
        "  btn_upload,\n",
        "  lbl_error,\n",
        "  btn_run,\n",
        "  out_pl,\n",
        "  lbl_pred,\n",
        "  lbl_pred2,\n",
        "])"
      ],
      "metadata": {
        "colab": {
          "base_uri": "https://localhost:8080/",
          "height": 337,
          "referenced_widgets": [
            "2228dee39f954fd6adabb97530745dc7",
            "7a4e6455046a4c7f8daf082ebe56f7b1",
            "2d6c579024884ed28822357eac0e565a",
            "d0339543f4cc47c7935a985ed4c07fe8",
            "0e8fb65d148a4f309e258bde888e2ad5",
            "2447be26d8ab41f4ad5bffbc35487619",
            "45656c006c2a4556890ccd070925df5c",
            "51fbacc3e376493c9c80097cef187b14",
            "c638a8cdf8f64e2fb9f83ee880be385e",
            "c826579b63c04022ae6a5d4a3a6a3dec",
            "af964fe356f5446d8379b883c477945f",
            "2185e5df97564118bda39997816b1ee7",
            "ae14f8231ed54ef1a183822c7c07daba",
            "42280adb247c4849937e5ff61660e95a",
            "e8c99d2d88164913b0d261c0e49ffd26",
            "5e2c8e76026d477fa2e89a8e1c0f2639",
            "8b5f47ff044848bb8c94b11c642e0544",
            "1953b361fb75428c890960bc4ea2eda0",
            "83faf083043b40518eb5dc82b3205811",
            "a748f23d10c94a088c2bc5ff03879b64",
            "922f9affff6741708b7ff45291e909b1",
            "21f49d3118354ad581c82b5a6e706cfa"
          ]
        },
        "id": "dvxQ7B5bmTmZ",
        "outputId": "31d2fa9f-f7b7-440b-f403-9fa423a599c4"
      },
      "execution_count": null,
      "outputs": [
        {
          "output_type": "display_data",
          "data": {
            "text/plain": [
              "VBox(children=(Label(value='Upload your image'), FileUpload(value={}, description='Upload'), Label(value=''), …"
            ],
            "application/vnd.jupyter.widget-view+json": {
              "version_major": 2,
              "version_minor": 0,
              "model_id": "2228dee39f954fd6adabb97530745dc7"
            }
          },
          "metadata": {}
        },
        {
          "output_type": "display_data",
          "data": {
            "text/plain": [
              "<IPython.core.display.HTML object>"
            ],
            "text/html": [
              "\n",
              "<style>\n",
              "    /* Turns off some styling */\n",
              "    progress {\n",
              "        /* gets rid of default border in Firefox and Opera. */\n",
              "        border: none;\n",
              "        /* Needs to be in here for Safari polyfill so background images work as expected. */\n",
              "        background-size: auto;\n",
              "    }\n",
              "    progress:not([value]), progress:not([value])::-webkit-progress-bar {\n",
              "        background: repeating-linear-gradient(45deg, #7e7e7e, #7e7e7e 10px, #5c5c5c 10px, #5c5c5c 20px);\n",
              "    }\n",
              "    .progress-bar-interrupted, .progress-bar-interrupted::-webkit-progress-bar {\n",
              "        background: #F44336;\n",
              "    }\n",
              "</style>\n"
            ]
          },
          "metadata": {}
        },
        {
          "output_type": "display_data",
          "data": {
            "text/plain": [
              "<IPython.core.display.HTML object>"
            ],
            "text/html": []
          },
          "metadata": {}
        }
      ]
    },
    {
      "cell_type": "code",
      "source": [],
      "metadata": {
        "id": "Yqa3Mt5frCI_"
      },
      "execution_count": null,
      "outputs": []
    }
  ]
}